{
  "nbformat": 4,
  "nbformat_minor": 0,
  "metadata": {
    "colab": {
      "name": "5. 오차역전법_Ex.ipynb",
      "version": "0.3.2",
      "provenance": [],
      "include_colab_link": true
    },
    "kernelspec": {
      "name": "python3",
      "display_name": "Python 3"
    }
  },
  "cells": [
    {
      "cell_type": "markdown",
      "metadata": {
        "id": "view-in-github",
        "colab_type": "text"
      },
      "source": [
        "<a href=\"https://colab.research.google.com/github/malkang92/deep-learning-from-scratch/blob/exercise/5_%EC%98%A4%EC%B0%A8%EC%97%AD%EC%A0%84%EB%B2%95_Ex.ipynb\" target=\"_parent\"><img src=\"https://colab.research.google.com/assets/colab-badge.svg\" alt=\"Open In Colab\"/></a>"
      ]
    },
    {
      "cell_type": "code",
      "metadata": {
        "id": "Xrhx9XP2dHv-",
        "colab_type": "code",
        "colab": {}
      },
      "source": [
        "import numpy as np"
      ],
      "execution_count": 0,
      "outputs": []
    },
    {
      "cell_type": "code",
      "metadata": {
        "id": "rf5w9akpFSEq",
        "colab_type": "code",
        "colab": {}
      },
      "source": [
        "class MulLayer:\n",
        "  def __init__(self):\n",
        "    self.x = None\n",
        "    self.y = None\n",
        "    \n",
        "  def forward(self, x, y):\n",
        "    self.x = x\n",
        "    self.y = y\n",
        "    out = x*y\n",
        "    \n",
        "    return out\n",
        "  \n",
        "  def backward(self, dout):\n",
        "    dx = dout * self.y #x와y를 바꾼다\n",
        "    dy = dout * self.x\n",
        "    \n",
        "    return dx, dy"
      ],
      "execution_count": 0,
      "outputs": []
    },
    {
      "cell_type": "code",
      "metadata": {
        "id": "Mak08DTyZSua",
        "colab_type": "code",
        "outputId": "103ccc83-581f-45fc-a6b7-5134335c1688",
        "colab": {
          "base_uri": "https://localhost:8080/",
          "height": 34
        }
      },
      "source": [
        "apple = 100\n",
        "apple_num = 2\n",
        "tax = 1.1\n",
        "\n",
        "mul_apple_layer = MulLayer()\n",
        "mul_tax_layer = MulLayer()\n",
        "\n",
        "apple_price = mul_apple_layer.forward(apple, apple_num)\n",
        "price = mul_tax_layer.forward(apple_price, tax)\n",
        "\n",
        "print(price)"
      ],
      "execution_count": 0,
      "outputs": [
        {
          "output_type": "stream",
          "text": [
            "220.00000000000003\n"
          ],
          "name": "stdout"
        }
      ]
    },
    {
      "cell_type": "code",
      "metadata": {
        "id": "ovJAMrtoaBd0",
        "colab_type": "code",
        "outputId": "bf185145-e947-4720-f956-41d20c250838",
        "colab": {
          "base_uri": "https://localhost:8080/",
          "height": 34
        }
      },
      "source": [
        "dprice = 1\n",
        "dapple_price, dtax = mul_tax_layer.backward(dprice)\n",
        "dapple, dapple_num = mul_apple_layer.backward(dapple_price)\n",
        "\n",
        "print(dapple, dapple_num, dtax)"
      ],
      "execution_count": 0,
      "outputs": [
        {
          "output_type": "stream",
          "text": [
            "2.2 110.00000000000001 200\n"
          ],
          "name": "stdout"
        }
      ]
    },
    {
      "cell_type": "code",
      "metadata": {
        "id": "C6oCtt9kbEA5",
        "colab_type": "code",
        "colab": {}
      },
      "source": [
        "class AddLayer:\n",
        "  def __init__(self):\n",
        "    pass\n",
        "  \n",
        "  def forward(self, x, y):\n",
        "    out = x+y\n",
        "    return out\n",
        "  \n",
        "  def backward(self, dout):\n",
        "    dx = dout *1\n",
        "    dy = dout*1\n",
        "    return dx, dy"
      ],
      "execution_count": 0,
      "outputs": []
    },
    {
      "cell_type": "code",
      "metadata": {
        "id": "JQkK3vo6eZOm",
        "colab_type": "code",
        "outputId": "d02aa8fa-7064-4ab8-a1f0-3d444f58858c",
        "colab": {
          "base_uri": "https://localhost:8080/",
          "height": 51
        }
      },
      "source": [
        "apple = 100\n",
        "apple_num = 2\n",
        "orange = 150\n",
        "orange_num = 3\n",
        "tax =1.1\n",
        "\n",
        "mul_apple_layer = MulLayer()\n",
        "mul_orange_layer = MulLayer()\n",
        "add_apple_orange_layer = AddLayer()\n",
        "mul_tax_layer = MulLayer()\n",
        "\n",
        "apple_price = mul_apple_layer.forward(apple, apple_num)\n",
        "orange_price = mul_orange_layer.forward(orange, orange_num)\n",
        "all_price = add_apple_orange_layer.forward(apple_price, orange_price)\n",
        "price = mul_tax_layer.forward(all_price, tax)\n",
        "\n",
        "dprice = 1\n",
        "dall_price, dtax = mul_tax_layer.backward(dprice)\n",
        "\n",
        "dapple_price, dorange_price = add_apple_orange_layer.backward(dall_price)\n",
        "dorange, dorange_num = mul_orange_layer.backward(dorange_price)\n",
        "dapple, dapple_num = mul_apple_layer.backward(dapple_price)\n",
        "\n",
        "print(price)\n",
        "print(dapple_num, dapple, dorange, dorange_num, dtax)"
      ],
      "execution_count": 0,
      "outputs": [
        {
          "output_type": "stream",
          "text": [
            "715.0000000000001\n",
            "110.00000000000001 2.2 3.3000000000000003 165.0 650\n"
          ],
          "name": "stdout"
        }
      ]
    },
    {
      "cell_type": "code",
      "metadata": {
        "id": "m1fyyeudhTXp",
        "colab_type": "code",
        "colab": {}
      },
      "source": [
        "class Relu:\n",
        "  def __init__(self):\n",
        "    self.mask=None\n",
        "    \n",
        "  def forward(self, x):\n",
        "    self.mask = (x<= 0)\n",
        "    out = x.copy()\n",
        "    out[self.mask]=0\n",
        "    \n",
        "  def backward(self, dout):\n",
        "    dout[self.mask] = 0\n",
        "    dx = dout\n",
        "    \n",
        "    return dx"
      ],
      "execution_count": 0,
      "outputs": []
    },
    {
      "cell_type": "code",
      "metadata": {
        "id": "CIuirQZccw7P",
        "colab_type": "code",
        "outputId": "15900de2-e3d5-4a02-a4f2-e2d74ae7b8ed",
        "colab": {
          "base_uri": "https://localhost:8080/",
          "height": 51
        }
      },
      "source": [
        "x = np.array([[1.0,-0.5], [-2.0, 3.0]])\n",
        "print(x)"
      ],
      "execution_count": 0,
      "outputs": [
        {
          "output_type": "stream",
          "text": [
            "[[ 1.  -0.5]\n",
            " [-2.   3. ]]\n"
          ],
          "name": "stdout"
        }
      ]
    },
    {
      "cell_type": "code",
      "metadata": {
        "id": "D_AavkC8dFyh",
        "colab_type": "code",
        "outputId": "203f6ae0-de81-4b80-9b0b-d63f7e6cc1b8",
        "colab": {
          "base_uri": "https://localhost:8080/",
          "height": 51
        }
      },
      "source": [
        "mask = (x<=0)\n",
        "print(mask)"
      ],
      "execution_count": 0,
      "outputs": [
        {
          "output_type": "stream",
          "text": [
            "[[False  True]\n",
            " [ True False]]\n"
          ],
          "name": "stdout"
        }
      ]
    },
    {
      "cell_type": "code",
      "metadata": {
        "id": "5UseaANvdM_5",
        "colab_type": "code",
        "colab": {}
      },
      "source": [
        "class  Siggmoid: \n",
        "  def __init__(self):\n",
        "    self.out = None\n",
        "\n",
        "def forward(self, x):\n",
        "  out = 1/(1+np.exp(-1))\n",
        "  self.out = out\n",
        "\n",
        "  def backward(self, dout):\n",
        "    dx = dout * (1.0-self.out)*self.out\n",
        "\n",
        "    return dx\n",
        "  "
      ],
      "execution_count": 0,
      "outputs": []
    },
    {
      "cell_type": "markdown",
      "metadata": {
        "id": "hBIkpusnuXog",
        "colab_type": "text"
      },
      "source": [
        "## 5.6 Affine/Softmax 계층 구현"
      ]
    },
    {
      "cell_type": "markdown",
      "metadata": {
        "id": "AuxzmrY3t1je",
        "colab_type": "text"
      },
      "source": [
        "### 5.6.1 Affine 계층"
      ]
    },
    {
      "cell_type": "code",
      "metadata": {
        "id": "AU6Z8lKTvOzA",
        "colab_type": "code",
        "colab": {
          "base_uri": "https://localhost:8080/",
          "height": 68
        },
        "outputId": "8de98c9f-a7b1-40d8-ef91-5ac67b174981"
      },
      "source": [
        "x = np.random.rand(2)\n",
        "w = np.random.rand(2,3)\n",
        "b = np.random.rand(3)\n",
        "\n",
        "print(x.shape)\n",
        "print(w.shape)\n",
        "print(b.shape)"
      ],
      "execution_count": 14,
      "outputs": [
        {
          "output_type": "stream",
          "text": [
            "(2,)\n",
            "(2, 3)\n",
            "(3,)\n"
          ],
          "name": "stdout"
        }
      ]
    },
    {
      "cell_type": "code",
      "metadata": {
        "id": "lQg66m2tvWKH",
        "colab_type": "code",
        "colab": {}
      },
      "source": [
        "y = np.dot(x,w)+b"
      ],
      "execution_count": 0,
      "outputs": []
    },
    {
      "cell_type": "code",
      "metadata": {
        "id": "H2FxMpZsvxCC",
        "colab_type": "code",
        "colab": {
          "base_uri": "https://localhost:8080/",
          "height": 34
        },
        "outputId": "2e34c254-a3d7-4281-d5ce-272a9a08ab66"
      },
      "source": [
        "print(x)"
      ],
      "execution_count": 16,
      "outputs": [
        {
          "output_type": "stream",
          "text": [
            "[0.93862173 0.0956627 ]\n"
          ],
          "name": "stdout"
        }
      ]
    },
    {
      "cell_type": "code",
      "metadata": {
        "id": "0OB0v7mizXZY",
        "colab_type": "code",
        "colab": {
          "base_uri": "https://localhost:8080/",
          "height": 51
        },
        "outputId": "53afe733-e715-42ed-b5a3-40585d2557dc"
      },
      "source": [
        "print(w)"
      ],
      "execution_count": 17,
      "outputs": [
        {
          "output_type": "stream",
          "text": [
            "[[0.12012357 0.89370191 0.84376208]\n",
            " [0.17373535 0.49211069 0.91415221]]\n"
          ],
          "name": "stdout"
        }
      ]
    },
    {
      "cell_type": "code",
      "metadata": {
        "id": "kFakCoLyzYTq",
        "colab_type": "code",
        "colab": {
          "base_uri": "https://localhost:8080/",
          "height": 34
        },
        "outputId": "b8d10d51-8654-4d4c-cdb2-44dd8113ce0d"
      },
      "source": [
        "print(b)"
      ],
      "execution_count": 18,
      "outputs": [
        {
          "output_type": "stream",
          "text": [
            "[0.40243169 0.06370758 0.04905398]\n"
          ],
          "name": "stdout"
        }
      ]
    },
    {
      "cell_type": "code",
      "metadata": {
        "id": "8VNQvXAfzlav",
        "colab_type": "code",
        "colab": {
          "base_uri": "https://localhost:8080/",
          "height": 34
        },
        "outputId": "eea4e6fa-a6fe-4b89-ac60-0b6c0ae311f3"
      },
      "source": [
        "print(y)"
      ],
      "execution_count": 20,
      "outputs": [
        {
          "output_type": "stream",
          "text": [
            "[0.53180228 0.94963226 0.92847768]\n"
          ],
          "name": "stdout"
        }
      ]
    },
    {
      "cell_type": "code",
      "metadata": {
        "id": "2ervhNu00ATK",
        "colab_type": "code",
        "colab": {
          "base_uri": "https://localhost:8080/",
          "height": 34
        },
        "outputId": "07599cb6-680e-48d5-fa42-79102b57abb6"
      },
      "source": [
        "print(y.shape)"
      ],
      "execution_count": 21,
      "outputs": [
        {
          "output_type": "stream",
          "text": [
            "(3,)\n"
          ],
          "name": "stdout"
        }
      ]
    },
    {
      "cell_type": "code",
      "metadata": {
        "id": "XaPJC3ln0Cqh",
        "colab_type": "code",
        "colab": {}
      },
      "source": [
        "ax = np.array([[2.0],[3.0]])"
      ],
      "execution_count": 0,
      "outputs": []
    },
    {
      "cell_type": "code",
      "metadata": {
        "id": "MnhRrmjT0QTQ",
        "colab_type": "code",
        "colab": {
          "base_uri": "https://localhost:8080/",
          "height": 34
        },
        "outputId": "569daf1a-c012-4461-ebf9-f134ae212c52"
      },
      "source": [
        "print(ax.shape)"
      ],
      "execution_count": 27,
      "outputs": [
        {
          "output_type": "stream",
          "text": [
            "(2, 1)\n"
          ],
          "name": "stdout"
        }
      ]
    },
    {
      "cell_type": "markdown",
      "metadata": {
        "id": "hL1JdUnN4c6C",
        "colab_type": "text"
      },
      "source": [
        "### 5.6.2. 배치용 Affine 계층"
      ]
    },
    {
      "cell_type": "code",
      "metadata": {
        "id": "IwNfZvaj0RjF",
        "colab_type": "code",
        "colab": {
          "base_uri": "https://localhost:8080/",
          "height": 85
        },
        "outputId": "a110362a-56e5-47f4-f2d3-780aba90ba08"
      },
      "source": [
        "x = np.random.rand(4,2)\n",
        "w = np.random.rand(2,3)\n",
        "b = np.random.rand(3)\n",
        "\n",
        "print(x)\n"
      ],
      "execution_count": 29,
      "outputs": [
        {
          "output_type": "stream",
          "text": [
            "[[0.53890831 0.84832894]\n",
            " [0.7025963  0.73554455]\n",
            " [0.0351285  0.1117962 ]\n",
            " [0.15038589 0.53494688]]\n"
          ],
          "name": "stdout"
        }
      ]
    },
    {
      "cell_type": "code",
      "metadata": {
        "id": "JJbJgO6e6Liz",
        "colab_type": "code",
        "colab": {
          "base_uri": "https://localhost:8080/",
          "height": 51
        },
        "outputId": "817b8be2-42e7-4ede-fb3c-f75435b3c9e7"
      },
      "source": [
        "print(w)"
      ],
      "execution_count": 32,
      "outputs": [
        {
          "output_type": "stream",
          "text": [
            "[[0.89776614 0.35053114 0.51010838]\n",
            " [0.78126899 0.46749037 0.25006325]]\n"
          ],
          "name": "stdout"
        }
      ]
    },
    {
      "cell_type": "code",
      "metadata": {
        "id": "DDFERWrZ6PNx",
        "colab_type": "code",
        "colab": {
          "base_uri": "https://localhost:8080/",
          "height": 34
        },
        "outputId": "863023ab-adc3-4f59-dee1-31335b70f203"
      },
      "source": [
        "print(b)"
      ],
      "execution_count": 31,
      "outputs": [
        {
          "output_type": "stream",
          "text": [
            "[0.64491963 0.71064057 0.5619141 ]\n"
          ],
          "name": "stdout"
        }
      ]
    },
    {
      "cell_type": "code",
      "metadata": {
        "id": "80SMXCGP6Qab",
        "colab_type": "code",
        "colab": {
          "base_uri": "https://localhost:8080/",
          "height": 85
        },
        "outputId": "af361609-c852-40de-e2bb-645777252e1b"
      },
      "source": [
        "y = np.dot(x,w)+b\n",
        "print(y)"
      ],
      "execution_count": 33,
      "outputs": [
        {
          "output_type": "stream",
          "text": [
            "[[1.79150635 1.29613032 1.04895163]\n",
            " [1.85034494 1.30078244 1.10424702]\n",
            " [0.76379971 0.77521785 0.60778956]\n",
            " [1.1978684  1.01343802 0.77239775]]\n"
          ],
          "name": "stdout"
        }
      ]
    },
    {
      "cell_type": "code",
      "metadata": {
        "id": "DN0GIu5b6UZt",
        "colab_type": "code",
        "colab": {
          "base_uri": "https://localhost:8080/",
          "height": 34
        },
        "outputId": "06db3945-c09a-4427-d1a7-29da58e3bba1"
      },
      "source": [
        "0.53890831*0.35053114 + 0.84832894*0.46749037+0.71064057"
      ],
      "execution_count": 38,
      "outputs": [
        {
          "output_type": "execute_result",
          "data": {
            "text/plain": [
              "1.2961303243020812"
            ]
          },
          "metadata": {
            "tags": []
          },
          "execution_count": 38
        }
      ]
    },
    {
      "cell_type": "code",
      "metadata": {
        "id": "JSzw4zyb6kPA",
        "colab_type": "code",
        "colab": {
          "base_uri": "https://localhost:8080/",
          "height": 34
        },
        "outputId": "c7e633a4-8186-42a9-cf09-171e73644284"
      },
      "source": [
        "x_dot_w = np.array([[0,0,0],[10,10,10]])\n",
        "print(x_dot_w.shape)"
      ],
      "execution_count": 44,
      "outputs": [
        {
          "output_type": "stream",
          "text": [
            "(2, 3)\n"
          ],
          "name": "stdout"
        }
      ]
    },
    {
      "cell_type": "code",
      "metadata": {
        "id": "9nPGRIJS7GrQ",
        "colab_type": "code",
        "colab": {}
      },
      "source": [
        "b=np.array([1,2,3])"
      ],
      "execution_count": 0,
      "outputs": []
    },
    {
      "cell_type": "code",
      "metadata": {
        "id": "vxxeno7x-XZq",
        "colab_type": "code",
        "colab": {
          "base_uri": "https://localhost:8080/",
          "height": 51
        },
        "outputId": "a37b56ea-7ab3-4326-86cd-c4b6b9dc8397"
      },
      "source": [
        "x_dot_w"
      ],
      "execution_count": 45,
      "outputs": [
        {
          "output_type": "execute_result",
          "data": {
            "text/plain": [
              "array([[ 0,  0,  0],\n",
              "       [10, 10, 10]])"
            ]
          },
          "metadata": {
            "tags": []
          },
          "execution_count": 45
        }
      ]
    },
    {
      "cell_type": "code",
      "metadata": {
        "id": "9J3hIozW-g9v",
        "colab_type": "code",
        "colab": {
          "base_uri": "https://localhost:8080/",
          "height": 51
        },
        "outputId": "24f79921-8177-45d9-dc87-8f955b17bd46"
      },
      "source": [
        "x_dot_w +b"
      ],
      "execution_count": 46,
      "outputs": [
        {
          "output_type": "execute_result",
          "data": {
            "text/plain": [
              "array([[ 1,  2,  3],\n",
              "       [11, 12, 13]])"
            ]
          },
          "metadata": {
            "tags": []
          },
          "execution_count": 46
        }
      ]
    },
    {
      "cell_type": "code",
      "metadata": {
        "id": "yHFU4qfz-jzH",
        "colab_type": "code",
        "colab": {
          "base_uri": "https://localhost:8080/",
          "height": 51
        },
        "outputId": "8ba7f60c-12d2-49e7-d08b-71ee606985c6"
      },
      "source": [
        "dy = np.array([[1,2,3],[4,5,6]])\n",
        "dy"
      ],
      "execution_count": 48,
      "outputs": [
        {
          "output_type": "execute_result",
          "data": {
            "text/plain": [
              "array([[1, 2, 3],\n",
              "       [4, 5, 6]])"
            ]
          },
          "metadata": {
            "tags": []
          },
          "execution_count": 48
        }
      ]
    },
    {
      "cell_type": "code",
      "metadata": {
        "id": "m5rYApD4-qiO",
        "colab_type": "code",
        "colab": {
          "base_uri": "https://localhost:8080/",
          "height": 34
        },
        "outputId": "a3cb96e3-d911-4912-8556-5f5a68cb1bed"
      },
      "source": [
        "db = np.sum(dy, axis = 0)\n",
        "db"
      ],
      "execution_count": 49,
      "outputs": [
        {
          "output_type": "execute_result",
          "data": {
            "text/plain": [
              "array([5, 7, 9])"
            ]
          },
          "metadata": {
            "tags": []
          },
          "execution_count": 49
        }
      ]
    },
    {
      "cell_type": "code",
      "metadata": {
        "id": "G-GOJBVj-wl9",
        "colab_type": "code",
        "colab": {}
      },
      "source": [
        "class Affine:\n",
        "  def __init__(self, w,b):\n",
        "    self.w = w\n",
        "    self.b = b\n",
        "    self.x = None\n",
        "    self.dw = None\n",
        "    self.db = None\n",
        "\n",
        "  def forward(self,x):\n",
        "    self.x = x\n",
        "    out = np.dot(x, self.w) + self.b\n",
        "\n",
        "    return out\n",
        "\n",
        "    def backward(self, dout):\n",
        "      dx = np.dot(dout, self.w.t)\n",
        "      self.dw = np.dot(self.x.t, dout)\n",
        "      self.db = np.sum(dout, axis=0)\n",
        "\n",
        "      return dx"
      ],
      "execution_count": 0,
      "outputs": []
    },
    {
      "cell_type": "markdown",
      "metadata": {
        "id": "7zIgWHMk_xvb",
        "colab_type": "text"
      },
      "source": [
        "### 5.6.3 Softmax-with-Loss 계층\n",
        "* 소프트맥스 계층은 입력 값을 정규화(출력의 합이 1이 되도록 변형)\n",
        "* 추론을 할 때는 소프트맥스 계층을 일반적으로 사용하지 않음\n",
        "* 신경망 추론에서 답을 하나만 내는 경우에는 가장 높은 점수만 알려되므로 소프트맥스 계층을 통한 정규화 필요 없음"
      ]
    },
    {
      "cell_type": "code",
      "metadata": {
        "id": "nJQ-Bl2p_aNf",
        "colab_type": "code",
        "colab": {}
      },
      "source": [
        "class SoftmaxWithLoss:\n",
        "  def __init__(self):\n",
        "    self.loss = None\n",
        "    self.y = None\n",
        "    self.t = None\n",
        "\n",
        "  def forward(self, x, t):\n",
        "    self.t = t\n",
        "    self.y = softmax(x)\n",
        "    self.loss = cross_entropy_error(self.y, self.t)\n",
        "    return self.loss\n",
        "\n",
        "  def backward(self, dout =1):\n",
        "    batch_size = self.t.shape[0]\n",
        "    dx = (self.y-self.t) / batch_size\n",
        "\n",
        "    return dx"
      ],
      "execution_count": 0,
      "outputs": []
    },
    {
      "cell_type": "code",
      "metadata": {
        "id": "vk7Y_fD7DiJ6",
        "colab_type": "code",
        "colab": {}
      },
      "source": [
        ""
      ],
      "execution_count": 0,
      "outputs": []
    }
  ]
}