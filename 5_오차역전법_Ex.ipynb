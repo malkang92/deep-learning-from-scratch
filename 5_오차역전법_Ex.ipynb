{
  "nbformat": 4,
  "nbformat_minor": 0,
  "metadata": {
    "colab": {
      "name": "5. 오차역전법_Ex.ipynb",
      "version": "0.3.2",
      "provenance": [],
      "include_colab_link": true
    },
    "kernelspec": {
      "name": "python3",
      "display_name": "Python 3"
    }
  },
  "cells": [
    {
      "cell_type": "markdown",
      "metadata": {
        "id": "view-in-github",
        "colab_type": "text"
      },
      "source": [
        "<a href=\"https://colab.research.google.com/github/malkang92/deep-learning-from-scratch/blob/exercise/5_%EC%98%A4%EC%B0%A8%EC%97%AD%EC%A0%84%EB%B2%95_Ex.ipynb\" target=\"_parent\"><img src=\"https://colab.research.google.com/assets/colab-badge.svg\" alt=\"Open In Colab\"/></a>"
      ]
    },
    {
      "cell_type": "code",
      "metadata": {
        "id": "Xrhx9XP2dHv-",
        "colab_type": "code",
        "colab": {}
      },
      "source": [
        "import numpy as np"
      ],
      "execution_count": 0,
      "outputs": []
    },
    {
      "cell_type": "code",
      "metadata": {
        "id": "rf5w9akpFSEq",
        "colab_type": "code",
        "colab": {}
      },
      "source": [
        "class MulLayer:\n",
        "  def __init__(self):\n",
        "    self.x = None\n",
        "    self.y = None\n",
        "    \n",
        "  def forward(self, x, y):\n",
        "    self.x = x\n",
        "    self.y = y\n",
        "    out = x*y\n",
        "    \n",
        "    return out\n",
        "  \n",
        "  def backward(self, dout):\n",
        "    dx = dout * self.y #x와y를 바꾼다\n",
        "    dy = dout * self.x\n",
        "    \n",
        "    return dx, dy"
      ],
      "execution_count": 0,
      "outputs": []
    },
    {
      "cell_type": "code",
      "metadata": {
        "id": "Mak08DTyZSua",
        "colab_type": "code",
        "outputId": "103ccc83-581f-45fc-a6b7-5134335c1688",
        "colab": {
          "base_uri": "https://localhost:8080/",
          "height": 34
        }
      },
      "source": [
        "apple = 100\n",
        "apple_num = 2\n",
        "tax = 1.1\n",
        "\n",
        "mul_apple_layer = MulLayer()\n",
        "mul_tax_layer = MulLayer()\n",
        "\n",
        "apple_price = mul_apple_layer.forward(apple, apple_num)\n",
        "price = mul_tax_layer.forward(apple_price, tax)\n",
        "\n",
        "print(price)"
      ],
      "execution_count": 0,
      "outputs": [
        {
          "output_type": "stream",
          "text": [
            "220.00000000000003\n"
          ],
          "name": "stdout"
        }
      ]
    },
    {
      "cell_type": "code",
      "metadata": {
        "id": "ovJAMrtoaBd0",
        "colab_type": "code",
        "outputId": "bf185145-e947-4720-f956-41d20c250838",
        "colab": {
          "base_uri": "https://localhost:8080/",
          "height": 34
        }
      },
      "source": [
        "dprice = 1\n",
        "dapple_price, dtax = mul_tax_layer.backward(dprice)\n",
        "dapple, dapple_num = mul_apple_layer.backward(dapple_price)\n",
        "\n",
        "print(dapple, dapple_num, dtax)"
      ],
      "execution_count": 0,
      "outputs": [
        {
          "output_type": "stream",
          "text": [
            "2.2 110.00000000000001 200\n"
          ],
          "name": "stdout"
        }
      ]
    },
    {
      "cell_type": "code",
      "metadata": {
        "id": "C6oCtt9kbEA5",
        "colab_type": "code",
        "colab": {}
      },
      "source": [
        "class AddLayer:\n",
        "  def __init__(self):\n",
        "    pass\n",
        "  \n",
        "  def forward(self, x, y):\n",
        "    out = x+y\n",
        "    return out\n",
        "  \n",
        "  def backward(self, dout):\n",
        "    dx = dout *1\n",
        "    dy = dout*1\n",
        "    return dx, dy"
      ],
      "execution_count": 0,
      "outputs": []
    },
    {
      "cell_type": "code",
      "metadata": {
        "id": "JQkK3vo6eZOm",
        "colab_type": "code",
        "outputId": "d02aa8fa-7064-4ab8-a1f0-3d444f58858c",
        "colab": {
          "base_uri": "https://localhost:8080/",
          "height": 51
        }
      },
      "source": [
        "apple = 100\n",
        "apple_num = 2\n",
        "orange = 150\n",
        "orange_num = 3\n",
        "tax =1.1\n",
        "\n",
        "mul_apple_layer = MulLayer()\n",
        "mul_orange_layer = MulLayer()\n",
        "add_apple_orange_layer = AddLayer()\n",
        "mul_tax_layer = MulLayer()\n",
        "\n",
        "apple_price = mul_apple_layer.forward(apple, apple_num)\n",
        "orange_price = mul_orange_layer.forward(orange, orange_num)\n",
        "all_price = add_apple_orange_layer.forward(apple_price, orange_price)\n",
        "price = mul_tax_layer.forward(all_price, tax)\n",
        "\n",
        "dprice = 1\n",
        "dall_price, dtax = mul_tax_layer.backward(dprice)\n",
        "\n",
        "dapple_price, dorange_price = add_apple_orange_layer.backward(dall_price)\n",
        "dorange, dorange_num = mul_orange_layer.backward(dorange_price)\n",
        "dapple, dapple_num = mul_apple_layer.backward(dapple_price)\n",
        "\n",
        "print(price)\n",
        "print(dapple_num, dapple, dorange, dorange_num, dtax)"
      ],
      "execution_count": 0,
      "outputs": [
        {
          "output_type": "stream",
          "text": [
            "715.0000000000001\n",
            "110.00000000000001 2.2 3.3000000000000003 165.0 650\n"
          ],
          "name": "stdout"
        }
      ]
    },
    {
      "cell_type": "code",
      "metadata": {
        "id": "m1fyyeudhTXp",
        "colab_type": "code",
        "colab": {}
      },
      "source": [
        "class Relu:\n",
        "  def __init__(self):\n",
        "    self.mask=None\n",
        "    \n",
        "  def forward(self, x):\n",
        "    self.mask = (x<= 0)\n",
        "    out = x.copy()\n",
        "    out[self.mask]=0\n",
        "    \n",
        "  def backward(self, dout):\n",
        "    dout[self.mask] = 0\n",
        "    dx = dout\n",
        "    \n",
        "    return dx"
      ],
      "execution_count": 0,
      "outputs": []
    },
    {
      "cell_type": "code",
      "metadata": {
        "id": "CIuirQZccw7P",
        "colab_type": "code",
        "outputId": "15900de2-e3d5-4a02-a4f2-e2d74ae7b8ed",
        "colab": {
          "base_uri": "https://localhost:8080/",
          "height": 51
        }
      },
      "source": [
        "x = np.array([[1.0,-0.5], [-2.0, 3.0]])\n",
        "print(x)"
      ],
      "execution_count": 0,
      "outputs": [
        {
          "output_type": "stream",
          "text": [
            "[[ 1.  -0.5]\n",
            " [-2.   3. ]]\n"
          ],
          "name": "stdout"
        }
      ]
    },
    {
      "cell_type": "code",
      "metadata": {
        "id": "D_AavkC8dFyh",
        "colab_type": "code",
        "outputId": "203f6ae0-de81-4b80-9b0b-d63f7e6cc1b8",
        "colab": {
          "base_uri": "https://localhost:8080/",
          "height": 51
        }
      },
      "source": [
        "mask = (x<=0)\n",
        "print(mask)"
      ],
      "execution_count": 0,
      "outputs": [
        {
          "output_type": "stream",
          "text": [
            "[[False  True]\n",
            " [ True False]]\n"
          ],
          "name": "stdout"
        }
      ]
    },
    {
      "cell_type": "code",
      "metadata": {
        "id": "5UseaANvdM_5",
        "colab_type": "code",
        "colab": {}
      },
      "source": [
        "class  Siggmoid: \n",
        "  def __init__(self):\n",
        "    self.out = None\n",
        "\n",
        "def forward(self, x):\n",
        "  out = 1/(1+np.exp(-1))\n",
        "  self.out = out\n",
        "\n",
        "  def backward(self, dout):\n",
        "    dx = dout * (1.0-self.out)*self.out\n",
        "\n",
        "    return dx\n",
        "  "
      ],
      "execution_count": 0,
      "outputs": []
    },
    {
      "cell_type": "markdown",
      "metadata": {
        "id": "hBIkpusnuXog",
        "colab_type": "text"
      },
      "source": [
        "## 5.6 Affine/Softmax 계층 구현"
      ]
    },
    {
      "cell_type": "markdown",
      "metadata": {
        "id": "AuxzmrY3t1je",
        "colab_type": "text"
      },
      "source": [
        "### 5.6.1 Affine 계층"
      ]
    },
    {
      "cell_type": "code",
      "metadata": {
        "id": "AU6Z8lKTvOzA",
        "colab_type": "code",
        "outputId": "3967cad4-4b93-4f6c-bbc6-c90662cec693",
        "colab": {
          "base_uri": "https://localhost:8080/",
          "height": 68
        }
      },
      "source": [
        "x = np.random.rand(2)\n",
        "w = np.random.rand(2,3)\n",
        "b = np.random.rand(3)\n",
        "\n",
        "print(x.shape)\n",
        "print(w.shape)\n",
        "print(b.shape)"
      ],
      "execution_count": 0,
      "outputs": [
        {
          "output_type": "stream",
          "text": [
            "(2,)\n",
            "(2, 3)\n",
            "(3,)\n"
          ],
          "name": "stdout"
        }
      ]
    },
    {
      "cell_type": "code",
      "metadata": {
        "id": "lQg66m2tvWKH",
        "colab_type": "code",
        "colab": {}
      },
      "source": [
        "y = np.dot(x,w)+b"
      ],
      "execution_count": 0,
      "outputs": []
    },
    {
      "cell_type": "code",
      "metadata": {
        "id": "H2FxMpZsvxCC",
        "colab_type": "code",
        "colab": {}
      },
      "source": [
        ""
      ],
      "execution_count": 0,
      "outputs": []
    }
  ]
}